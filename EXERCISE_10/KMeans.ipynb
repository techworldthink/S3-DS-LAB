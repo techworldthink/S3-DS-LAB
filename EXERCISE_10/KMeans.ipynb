{
  "nbformat": 4,
  "nbformat_minor": 0,
  "metadata": {
    "colab": {
      "name": "s3_k_means_cluster.ipynb",
      "provenance": []
    },
    "kernelspec": {
      "name": "python3",
      "display_name": "Python 3"
    },
    "language_info": {
      "name": "python"
    }
  },
  "cells": [
    {
      "cell_type": "code",
      "execution_count": null,
      "metadata": {
        "id": "-3Gxr-_7aQlb"
      },
      "outputs": [],
      "source": [
        "from sklearn import datasets\n",
        "import matplotlib.pyplot as plt\n",
        "import pandas as pd\n",
        "from sklearn.cluster import KMeans\n"
      ]
    },
    {
      "cell_type": "code",
      "source": [
        "iris = datasets.load_iris()\n",
        "X = iris.data[:, :2]\n",
        "y = iris.target\n"
      ],
      "metadata": {
        "id": "qMvNQcU0aqrm"
      },
      "execution_count": null,
      "outputs": []
    },
    {
      "cell_type": "code",
      "source": [
        "plt.scatter(X[:,0], X[:,1], c=y, cmap='prism')\n",
        "plt.xlabel('Spea1 Length', fontsize=18)\n",
        "plt.ylabel('Sepal Width', fontsize=18)"
      ],
      "metadata": {
        "id": "FDdR4vP2bGwd"
      },
      "execution_count": null,
      "outputs": []
    },
    {
      "cell_type": "code",
      "source": [
        "km = KMeans(n_clusters = 3, init='k-means++', n_init=10, max_iter=300, tol=0.0001, verbose=0, random_state=21, copy_x=True, algorithm=\"auto\")\n",
        "km.fit(X)\n",
        "centers = km.cluster_centers_\n",
        "print(centers)\n",
        "new_labels = km.labels_\n",
        "print(new_labels)\n",
        "print(y)"
      ],
      "metadata": {
        "id": "4AUzGqpZborf"
      },
      "execution_count": null,
      "outputs": []
    },
    {
      "cell_type": "code",
      "source": [
        "fig, axes = plt.subplots( 1,2, figsize=(16,8))\n",
        "axes[0].scatter(X[:, 0], X[:, 1], c=y, cmap='prism',edgecolor='k', s=75)\n",
        "axes[1].scatter(X[:, 0], X[:, 1], c=new_labels, cmap='jet',edgecolor='k', s=75)\n",
        "axes[0].set_xlabel('Sepal length', fontsize=12)\n",
        "axes[0].set_ylabel('Sepal width', fontsize=12)\n",
        "axes[1].set_xlabel('Sepal length', fontsize=12)\n",
        "axes[1].set_ylabel('Sepal width', fontsize=12)\n",
        "axes[0].tick_params(direction='in', length=10, width=5, colors='k', labelsize=15)\n",
        "axes[1].tick_params(direction='in', length=10, width=5, colors='k', labelsize=15)\n",
        "axes[0].set_title('Actual', fontsize=18)\n",
        "axes[1].set_title('Predicted', fontsize=18)\n"
      ],
      "metadata": {
        "id": "6HdvInO-fttg"
      },
      "execution_count": null,
      "outputs": []
    },
    {
      "cell_type": "code",
      "source": [
        ""
      ],
      "metadata": {
        "id": "VsGf8bhUorpx"
      },
      "execution_count": null,
      "outputs": []
    }
  ]
}